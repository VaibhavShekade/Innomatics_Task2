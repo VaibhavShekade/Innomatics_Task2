{
  "nbformat": 4,
  "nbformat_minor": 0,
  "metadata": {
    "colab": {
      "provenance": []
    },
    "kernelspec": {
      "name": "python3",
      "display_name": "Python 3"
    },
    "language_info": {
      "name": "python"
    }
  },
  "cells": [
    {
      "cell_type": "markdown",
      "source": [
        "Q1"
      ],
      "metadata": {
        "id": "-vl_1GaP70BH"
      }
    },
    {
      "cell_type": "code",
      "execution_count": null,
      "metadata": {
        "id": "qwbu9jYjyiPb"
      },
      "outputs": [],
      "source": [
        "if __name__ == '__main__':\n",
        "    x = int(input())\n",
        "    y = int(input())\n",
        "    z = int(input())\n",
        "    n = int(input())\n",
        "    \n",
        "ans = [[i,j,k]for i in range(x+1) for j in range(y+1) for k in range(z+1) if i+j+k !=n ]\n",
        "print (ans);\n"
      ]
    },
    {
      "cell_type": "markdown",
      "source": [
        "Q2"
      ],
      "metadata": {
        "id": "l27vZ6dc74cE"
      }
    },
    {
      "cell_type": "code",
      "source": [
        "if __name__ == '__main__':\n",
        " n = int(input())\n",
        "\n",
        " arr = map(int, input().split())\n",
        "\n",
        " arr = sorted(set(arr))\n",
        "\n",
        " print(arr[-2])\n",
        "\n",
        "    \n"
      ],
      "metadata": {
        "id": "YqOitEIi73kv"
      },
      "execution_count": null,
      "outputs": []
    },
    {
      "cell_type": "markdown",
      "source": [
        "Q3"
      ],
      "metadata": {
        "id": "Z2VXOJrJ8D9l"
      }
    },
    {
      "cell_type": "code",
      "source": [
        "if __name__ == '__main__':\n",
        "    lst = []\n",
        "    for _ in range(int(input())):\n",
        "        name = input()\n",
        "        score = float(input())    \n",
        "        lst.append([name,score])\n",
        "    findScore = [x[1] for x in lst]\n",
        "    sortScore = sorted(set(findScore))\n",
        "    findName = sorted([y[0] for y in lst if(sortScore[1] == y[1])])\n",
        "    for z in findName:\n",
        "        print(z)\n",
        "        \n",
        "        \n"
      ],
      "metadata": {
        "id": "jQRinlLF8FLM"
      },
      "execution_count": null,
      "outputs": []
    },
    {
      "cell_type": "markdown",
      "source": [
        "Q4"
      ],
      "metadata": {
        "id": "2bIFvTOR8JEQ"
      }
    },
    {
      "cell_type": "code",
      "source": [
        "if __name__ == '__main__':\n",
        "    n = int(input())\n",
        "    student_marks = {}\n",
        "    for _ in range(n):\n",
        "        name, *line = input().split()\n",
        "        scores = list(map(float, line))\n",
        "        student_marks[name] = scores\n",
        "    query_name = input()\n",
        "\n",
        "    s = 0\n",
        "    for i in student_marks[query_name]:\n",
        "        s = s+i\n",
        "    print(\"{0:.2f}\".format(s/3))\n",
        "    \n"
      ],
      "metadata": {
        "id": "DcfC9RGv8KL3"
      },
      "execution_count": null,
      "outputs": []
    },
    {
      "cell_type": "markdown",
      "source": [
        "Q5"
      ],
      "metadata": {
        "id": "_313zvQQ8QLo"
      }
    },
    {
      "cell_type": "code",
      "source": [
        "if __name__ == '__main__':\n",
        "    N = int(input())\n",
        "    l = []\n",
        "\n",
        "for i in range(N):\n",
        "    inp = list(input().split())\n",
        "    \n",
        "    if 'insert' in inp:\n",
        "        l.insert(int(inp[1]), int(inp[2]))\n",
        "    elif 'print' in inp:\n",
        "        print(l)\n",
        "    elif 'remove' in inp:\n",
        "        l.remove (int(inp[1]))\n",
        "    elif 'append' in inp:\n",
        "        l.append (int(inp[1]))    \n",
        "    elif 'sort' in inp:\n",
        "        l.sort()\n",
        "    elif 'pop' in inp:\n",
        "        l.pop()  \n",
        "    elif 'reverse' in inp:\n",
        "        l.reverse()   \n",
        "                   \n"
      ],
      "metadata": {
        "id": "YmP8WZrg8Rip"
      },
      "execution_count": null,
      "outputs": []
    },
    {
      "cell_type": "markdown",
      "source": [
        "Q6"
      ],
      "metadata": {
        "id": "PuM5eOwl8V70"
      }
    },
    {
      "cell_type": "code",
      "source": [
        "if __name__ == '__main__':\n",
        "    n = int(input())\n",
        "    \n",
        "\n",
        "    integer_list = tuple(map(int, input().split()))\n",
        "\n",
        "    print(hash(integer_list))\n"
      ],
      "metadata": {
        "id": "_GFq3seb8XZd"
      },
      "execution_count": null,
      "outputs": []
    },
    {
      "cell_type": "markdown",
      "source": [
        "Q7"
      ],
      "metadata": {
        "id": "TAfWYY208dQ_"
      }
    },
    {
      "cell_type": "code",
      "source": [
        "def average(array):\n",
        "    return sum(set(array))/len(set(array))\n",
        "\n",
        "\n"
      ],
      "metadata": {
        "id": "1Mlpvnr88eL_"
      },
      "execution_count": null,
      "outputs": []
    },
    {
      "cell_type": "markdown",
      "source": [
        "Q8"
      ],
      "metadata": {
        "id": "keM_5ALh8iGr"
      }
    },
    {
      "cell_type": "code",
      "source": [
        "n,m = list(map(int, input().split()))\n",
        "arr, a, b = list(map(int, input().split())), set(map(int, input().split())), set(map(int, input().split()))\n",
        "\n",
        "x = set(arr) & a \n",
        "y = set(arr) & b\n",
        "c = 0\n",
        "for i in arr:\n",
        "    if i in x: \n",
        "        c += 1\n",
        "    elif i in y: \n",
        "        c -= 1\n",
        "\n",
        "print(c)\n"
      ],
      "metadata": {
        "id": "DTcCm7Wp8jDL"
      },
      "execution_count": null,
      "outputs": []
    },
    {
      "cell_type": "markdown",
      "source": [
        "Q9"
      ],
      "metadata": {
        "id": "kRoBESXF8nkf"
      }
    },
    {
      "cell_type": "code",
      "source": [
        "m = int(input())\n",
        "set_m = set(map(int, input().split()))\n",
        "\n",
        "n = int(input())\n",
        "set_n = set(map(int,input().split()))\n",
        "\n",
        "sym_diff = sorted(set_m.symmetric_difference(set_n))\n",
        "\n",
        "for num in sym_diff:\n",
        "    print(num)\n"
      ],
      "metadata": {
        "id": "R8dOjav58pUS"
      },
      "execution_count": null,
      "outputs": []
    },
    {
      "cell_type": "markdown",
      "source": [
        "Q10"
      ],
      "metadata": {
        "id": "INEdICGf8t5s"
      }
    },
    {
      "cell_type": "code",
      "source": [
        "number = int(input())\n",
        "lst = []\n",
        "for i in range(number):\n",
        "    enter = input()\n",
        "    lst.append(enter)\n",
        "    \n",
        "resultado = len(set(lst))\n",
        "\n",
        "print(resultado)\n"
      ],
      "metadata": {
        "id": "ke3GlGWF8u6A"
      },
      "execution_count": null,
      "outputs": []
    },
    {
      "cell_type": "markdown",
      "source": [
        "Q11"
      ],
      "metadata": {
        "id": "ZcLq9boe8zKo"
      }
    },
    {
      "cell_type": "code",
      "source": [
        "n, s = int(input()), set(map(int, input().split()[::-1]))\n",
        "for _ in range(int(input())):\n",
        "    method, *args = input().split()\n",
        "    getattr(s, method)(*map(int, *args)) if args else getattr(s, method)()\n",
        "print(sum(s))\n"
      ],
      "metadata": {
        "id": "qcip37SZ80Dw"
      },
      "execution_count": null,
      "outputs": []
    },
    {
      "cell_type": "markdown",
      "source": [
        "Q12"
      ],
      "metadata": {
        "id": "z5xUNdSA836r"
      }
    },
    {
      "cell_type": "code",
      "source": [
        "n, N = (int(input()), set(map(int, input().split())))\n",
        "b, B = (int(input()), set(map(int, input().split())))\n",
        "print(len(N.union(B)))\n"
      ],
      "metadata": {
        "id": "uglfFAYq84xz"
      },
      "execution_count": null,
      "outputs": []
    },
    {
      "cell_type": "markdown",
      "source": [
        "Q13"
      ],
      "metadata": {
        "id": "vRyilA4H89PQ"
      }
    },
    {
      "cell_type": "code",
      "source": [
        "input()\n",
        "set1 = set(map(int, input().split()))\n",
        "input()\n",
        "set2 = set(map(int, input().split()))\n",
        "print(len(set1 & set2))\n"
      ],
      "metadata": {
        "id": "nnFR4T1I8-MQ"
      },
      "execution_count": null,
      "outputs": []
    },
    {
      "cell_type": "markdown",
      "source": [
        "Q14"
      ],
      "metadata": {
        "id": "0bmsKkgU9DsX"
      }
    },
    {
      "cell_type": "code",
      "source": [
        "input()\n",
        "a = set(map(int, input().split()))\n",
        "input()\n",
        "b = set(map(int, input().split()))\n",
        "print(len(a-b))\n"
      ],
      "metadata": {
        "id": "_4LWsQf29ITu"
      },
      "execution_count": null,
      "outputs": []
    },
    {
      "cell_type": "markdown",
      "source": [
        "Q15"
      ],
      "metadata": {
        "id": "h-4Ae5NI9GMO"
      }
    },
    {
      "cell_type": "code",
      "source": [
        "input()\n",
        "s = set(input().split())\n",
        "input()\n",
        "print(len(s.symmetric_difference(input().split())))\n"
      ],
      "metadata": {
        "id": "kPnyf8099MBB"
      },
      "execution_count": null,
      "outputs": []
    },
    {
      "cell_type": "markdown",
      "source": [
        "Q16"
      ],
      "metadata": {
        "id": "3haC6PI-9QHV"
      }
    },
    {
      "cell_type": "code",
      "source": [
        "input()\n",
        "a = set(map(int, input().split()))\n",
        "\n",
        "for _ in range(int(input())):\n",
        "    name, *_ = input().split()\n",
        "    getattr(a, name)(set(map(int, input().split())))\n",
        "\n",
        "print(sum(a))\n"
      ],
      "metadata": {
        "id": "aF2yPtR49RIZ"
      },
      "execution_count": null,
      "outputs": []
    },
    {
      "cell_type": "markdown",
      "source": [
        "Q17"
      ],
      "metadata": {
        "id": "GVHLhMjH9Vdd"
      }
    },
    {
      "cell_type": "code",
      "source": [
        "from collections import Counter\n",
        "\n",
        "input()\n",
        "print(Counter(input().split()).most_common()[-1][0])\n"
      ],
      "metadata": {
        "id": "rkaW8y199WX0"
      },
      "execution_count": null,
      "outputs": []
    },
    {
      "cell_type": "markdown",
      "source": [
        "Q18"
      ],
      "metadata": {
        "id": "Zy3OEE6I9af9"
      }
    },
    {
      "cell_type": "code",
      "source": [
        "t=int(input())\n",
        "for i in range(t):\n",
        "    l=[]\n",
        "    l1=[]\n",
        "    c=0\n",
        "    n1=int(input())\n",
        "    l=list(map(int,input().split()))\n",
        "    n2=int(input())\n",
        "    l1=list(map(int,input().split()))\n",
        "    for i in l:\n",
        "        if i in l1:\n",
        "            c=c+1\n",
        "    if c==len(l):\n",
        "        print(True)\n",
        "    else:\n",
        "        print(False)    \n"
      ],
      "metadata": {
        "id": "eMrBC_y59bwV"
      },
      "execution_count": null,
      "outputs": []
    },
    {
      "cell_type": "markdown",
      "source": [
        "Q19"
      ],
      "metadata": {
        "id": "aooOK5Eq9gIR"
      }
    },
    {
      "cell_type": "code",
      "source": [
        "result = []\n",
        "set1 = set(map(int,input().split()))\n",
        "for _ in range(int(input())):\n",
        "    set2 = set(map(int,input().split()))\n",
        "    if set1.issuperset(set2):\n",
        "        result.append(True)\n",
        "    else:\n",
        "        result.append(False)\n",
        "        \n",
        "if False in result:\n",
        "    print(False)\n",
        "else:\n",
        "    print(True)\n"
      ],
      "metadata": {
        "id": "xGxi6H_19hPl"
      },
      "execution_count": null,
      "outputs": []
    }
  ]
}